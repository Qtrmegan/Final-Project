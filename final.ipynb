# this is a godsend of a lib its like made for simulations
import pygame 
# lets me exit stuff- idk pygames told me to use it
import sys
# Im assuming this needs it ANTI NUMPY WOOOOOOOOO
import math
# oh yeah youre gonna need random- its a simulation 
import random


# this is going to be how th particale is going to act and what it can do 
class Particle:
    def __init__(self, x, y, mass):
        # this is doing the starting position, mass, velocity, and color
        self.x = x
        self.y = y
        self.mass = mass
        self.vx = 0
        self.vy = 0
        #pretty colors
        self.color = (random.randint(0, 255), random.randint(0, 255), random.randint(0, 255))

# calculate the gravitational force between two particles
def calculate_gravity(particle1, particle2):
    #this is big bc if it was smaller it would be rly slow
    G = 6
    dx = particle2.x - particle1.x
    dy = particle2.y - particle1.y
    distance = math.sqrt(dx**2 + dy**2)
    
    # newtons law of universal gravitation
    force = G * (particle1.mass * particle2.mass) / distance**2
    
    #  force components in the x and y directions
    fx = force * dx / distance
    fy = force * dy / distance
    
    return fx, fy

# Update the particles based on gravitational interactions
#this was going to screw me if i didnt add this- nothing would happen 
def update_particles(particles):
    dt = 0.1  # Time that is updates
    for i in range(len(particles)):
        for j in range(i+1, len(particles)):
            # Calculate and update velocities based on gravitational forces 
            fx, fy = calculate_gravity(particles[i], particles[j])
            particles[i].vx += fx / particles[i].mass * dt
            particles[i].vy += fy / particles[i].mass * dt
            particles[j].vx -= fx / particles[j].mass * dt
            particles[j].vy -= fy / particles[j].mass * dt
    
    # Update particle positions based on velocities
    for particle in particles:
        particle.x += particle.vx * dt
        particle.y += particle.vy * dt

# Main function to run the simulation
def main():
    pygame.init()
    
    # Set up Pygame window
    #I got this from the pygames wedsite
    width, height = 800, 600
    screen = pygame.display.set_mode((width, height))
    clock = pygame.time.Clock()
    font = pygame.font.Font(None, 36)

    # the amount of particals
    num_particles = 200
    #setting it to the random sstuff
    particles = [Particle(random.uniform(0, width), random.uniform(0, height), random.uniform(1, 5)) for _ in range(num_particles)]

    while True:
        for event in pygame.event.get():
            if event.type == pygame.QUIT:
                pygame.quit()
                sys.exit()
        
        # Update particle positions and velocities
        update_particles(particles)
        
        # Clear the screen
        screen.fill((0, 0, 0)) 

        # Draw particles on the screen
        for particle in particles:
            pygame.draw.circle(screen, particle.color, (int(particle.x), int(particle.y)), int(particle.mass))
        
       
        text = font.render("Check out the APOD--by megan miller", True, (2, 100, 255))
        screen.blit(text, (10, 10))

        pygame.display.flip()
        clock.tick(62)

# Run the main function if this script is executed
if __name__ == "__main__":
    main()
